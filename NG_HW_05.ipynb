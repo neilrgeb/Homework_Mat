{
 "cells": [
  {
   "cell_type": "code",
   "execution_count": 197,
   "metadata": {},
   "outputs": [],
   "source": [
    "%matplotlib inline\n",
    "# Dependencies and Setup\n",
    "import matplotlib.pyplot as plt\n",
    "import pandas as pd\n",
    "import numpy as np\n",
    "\n",
    "# File to Load (Remember to change these)\n",
    "city_data = \"data/city_data.csv\"\n",
    "ride_data = \"data/ride_data.csv\"\n",
    "\n",
    "# Read the City and Ride Data\n",
    "city_data_df = pd.read_csv(city_data)\n",
    "ride_data_df = pd.read_csv(ride_data)\n",
    "\n"
   ]
  },
  {
   "cell_type": "code",
   "execution_count": 198,
   "metadata": {},
   "outputs": [
    {
     "data": {
      "text/html": [
       "<div>\n",
       "<style scoped>\n",
       "    .dataframe tbody tr th:only-of-type {\n",
       "        vertical-align: middle;\n",
       "    }\n",
       "\n",
       "    .dataframe tbody tr th {\n",
       "        vertical-align: top;\n",
       "    }\n",
       "\n",
       "    .dataframe thead th {\n",
       "        text-align: right;\n",
       "    }\n",
       "</style>\n",
       "<table border=\"1\" class=\"dataframe\">\n",
       "  <thead>\n",
       "    <tr style=\"text-align: right;\">\n",
       "      <th></th>\n",
       "      <th>city</th>\n",
       "      <th>date</th>\n",
       "      <th>fare</th>\n",
       "      <th>ride_id</th>\n",
       "    </tr>\n",
       "  </thead>\n",
       "  <tbody>\n",
       "    <tr>\n",
       "      <th>0</th>\n",
       "      <td>Lake Jonathanshire</td>\n",
       "      <td>2018-01-14 10:14:22</td>\n",
       "      <td>13.83</td>\n",
       "      <td>5739410935873</td>\n",
       "    </tr>\n",
       "    <tr>\n",
       "      <th>1</th>\n",
       "      <td>South Michelleport</td>\n",
       "      <td>2018-03-04 18:24:09</td>\n",
       "      <td>30.24</td>\n",
       "      <td>2343912425577</td>\n",
       "    </tr>\n",
       "    <tr>\n",
       "      <th>2</th>\n",
       "      <td>Port Samanthamouth</td>\n",
       "      <td>2018-02-24 04:29:00</td>\n",
       "      <td>33.44</td>\n",
       "      <td>2005065760003</td>\n",
       "    </tr>\n",
       "    <tr>\n",
       "      <th>3</th>\n",
       "      <td>Rodneyfort</td>\n",
       "      <td>2018-02-10 23:22:03</td>\n",
       "      <td>23.44</td>\n",
       "      <td>5149245426178</td>\n",
       "    </tr>\n",
       "    <tr>\n",
       "      <th>4</th>\n",
       "      <td>South Jack</td>\n",
       "      <td>2018-03-06 04:28:35</td>\n",
       "      <td>34.58</td>\n",
       "      <td>3908451377344</td>\n",
       "    </tr>\n",
       "  </tbody>\n",
       "</table>\n",
       "</div>"
      ],
      "text/plain": [
       "                 city                 date   fare        ride_id\n",
       "0  Lake Jonathanshire  2018-01-14 10:14:22  13.83  5739410935873\n",
       "1  South Michelleport  2018-03-04 18:24:09  30.24  2343912425577\n",
       "2  Port Samanthamouth  2018-02-24 04:29:00  33.44  2005065760003\n",
       "3          Rodneyfort  2018-02-10 23:22:03  23.44  5149245426178\n",
       "4          South Jack  2018-03-06 04:28:35  34.58  3908451377344"
      ]
     },
     "execution_count": 198,
     "metadata": {},
     "output_type": "execute_result"
    }
   ],
   "source": [
    "ride_data_df.head()"
   ]
  },
  {
   "cell_type": "code",
   "execution_count": 199,
   "metadata": {},
   "outputs": [
    {
     "data": {
      "text/html": [
       "<div>\n",
       "<style scoped>\n",
       "    .dataframe tbody tr th:only-of-type {\n",
       "        vertical-align: middle;\n",
       "    }\n",
       "\n",
       "    .dataframe tbody tr th {\n",
       "        vertical-align: top;\n",
       "    }\n",
       "\n",
       "    .dataframe thead th {\n",
       "        text-align: right;\n",
       "    }\n",
       "</style>\n",
       "<table border=\"1\" class=\"dataframe\">\n",
       "  <thead>\n",
       "    <tr style=\"text-align: right;\">\n",
       "      <th></th>\n",
       "      <th>city</th>\n",
       "      <th>driver_count</th>\n",
       "      <th>type</th>\n",
       "    </tr>\n",
       "  </thead>\n",
       "  <tbody>\n",
       "    <tr>\n",
       "      <th>0</th>\n",
       "      <td>Richardfort</td>\n",
       "      <td>38</td>\n",
       "      <td>Urban</td>\n",
       "    </tr>\n",
       "    <tr>\n",
       "      <th>1</th>\n",
       "      <td>Williamsstad</td>\n",
       "      <td>59</td>\n",
       "      <td>Urban</td>\n",
       "    </tr>\n",
       "    <tr>\n",
       "      <th>2</th>\n",
       "      <td>Port Angela</td>\n",
       "      <td>67</td>\n",
       "      <td>Urban</td>\n",
       "    </tr>\n",
       "    <tr>\n",
       "      <th>3</th>\n",
       "      <td>Rodneyfort</td>\n",
       "      <td>34</td>\n",
       "      <td>Urban</td>\n",
       "    </tr>\n",
       "    <tr>\n",
       "      <th>4</th>\n",
       "      <td>West Robert</td>\n",
       "      <td>39</td>\n",
       "      <td>Urban</td>\n",
       "    </tr>\n",
       "  </tbody>\n",
       "</table>\n",
       "</div>"
      ],
      "text/plain": [
       "           city  driver_count   type\n",
       "0   Richardfort            38  Urban\n",
       "1  Williamsstad            59  Urban\n",
       "2   Port Angela            67  Urban\n",
       "3    Rodneyfort            34  Urban\n",
       "4   West Robert            39  Urban"
      ]
     },
     "execution_count": 199,
     "metadata": {},
     "output_type": "execute_result"
    }
   ],
   "source": [
    "city_data_df.head()\n"
   ]
  },
  {
   "cell_type": "code",
   "execution_count": 200,
   "metadata": {
    "scrolled": true
   },
   "outputs": [
    {
     "data": {
      "text/html": [
       "<div>\n",
       "<style scoped>\n",
       "    .dataframe tbody tr th:only-of-type {\n",
       "        vertical-align: middle;\n",
       "    }\n",
       "\n",
       "    .dataframe tbody tr th {\n",
       "        vertical-align: top;\n",
       "    }\n",
       "\n",
       "    .dataframe thead th {\n",
       "        text-align: right;\n",
       "    }\n",
       "</style>\n",
       "<table border=\"1\" class=\"dataframe\">\n",
       "  <thead>\n",
       "    <tr style=\"text-align: right;\">\n",
       "      <th></th>\n",
       "      <th>city</th>\n",
       "      <th>date</th>\n",
       "      <th>fare</th>\n",
       "      <th>ride_id</th>\n",
       "      <th>driver_count</th>\n",
       "      <th>type</th>\n",
       "    </tr>\n",
       "  </thead>\n",
       "  <tbody>\n",
       "    <tr>\n",
       "      <th>0</th>\n",
       "      <td>Lake Jonathanshire</td>\n",
       "      <td>2018-01-14 10:14:22</td>\n",
       "      <td>13.83</td>\n",
       "      <td>5739410935873</td>\n",
       "      <td>5</td>\n",
       "      <td>Urban</td>\n",
       "    </tr>\n",
       "    <tr>\n",
       "      <th>1</th>\n",
       "      <td>Lake Jonathanshire</td>\n",
       "      <td>2018-04-07 20:51:11</td>\n",
       "      <td>31.25</td>\n",
       "      <td>4441251834598</td>\n",
       "      <td>5</td>\n",
       "      <td>Urban</td>\n",
       "    </tr>\n",
       "    <tr>\n",
       "      <th>2</th>\n",
       "      <td>Lake Jonathanshire</td>\n",
       "      <td>2018-03-09 23:45:55</td>\n",
       "      <td>19.89</td>\n",
       "      <td>2389495660448</td>\n",
       "      <td>5</td>\n",
       "      <td>Urban</td>\n",
       "    </tr>\n",
       "    <tr>\n",
       "      <th>3</th>\n",
       "      <td>Lake Jonathanshire</td>\n",
       "      <td>2018-04-07 18:09:21</td>\n",
       "      <td>24.28</td>\n",
       "      <td>7796805191168</td>\n",
       "      <td>5</td>\n",
       "      <td>Urban</td>\n",
       "    </tr>\n",
       "    <tr>\n",
       "      <th>4</th>\n",
       "      <td>Lake Jonathanshire</td>\n",
       "      <td>2018-01-02 14:14:50</td>\n",
       "      <td>13.89</td>\n",
       "      <td>424254840012</td>\n",
       "      <td>5</td>\n",
       "      <td>Urban</td>\n",
       "    </tr>\n",
       "  </tbody>\n",
       "</table>\n",
       "</div>"
      ],
      "text/plain": [
       "                 city                 date   fare        ride_id  \\\n",
       "0  Lake Jonathanshire  2018-01-14 10:14:22  13.83  5739410935873   \n",
       "1  Lake Jonathanshire  2018-04-07 20:51:11  31.25  4441251834598   \n",
       "2  Lake Jonathanshire  2018-03-09 23:45:55  19.89  2389495660448   \n",
       "3  Lake Jonathanshire  2018-04-07 18:09:21  24.28  7796805191168   \n",
       "4  Lake Jonathanshire  2018-01-02 14:14:50  13.89   424254840012   \n",
       "\n",
       "   driver_count   type  \n",
       "0             5  Urban  \n",
       "1             5  Urban  \n",
       "2             5  Urban  \n",
       "3             5  Urban  \n",
       "4             5  Urban  "
      ]
     },
     "execution_count": 200,
     "metadata": {},
     "output_type": "execute_result"
    }
   ],
   "source": [
    "comb_data_df = pd.merge(ride_data_df, city_data_df, on=\"city\", how='outer')\n",
    "comb_data_df.head()"
   ]
  },
  {
   "cell_type": "code",
   "execution_count": 201,
   "metadata": {},
   "outputs": [
    {
     "data": {
      "text/plain": [
       "city\n",
       "Amandaburgh             24.641667\n",
       "Barajasview             25.332273\n",
       "Barronchester           36.422500\n",
       "Bethanyland             32.956111\n",
       "Bradshawfurt            40.064000\n",
       "Brandonfort             35.437368\n",
       "Carriemouth             28.314444\n",
       "Christopherfurt         24.501852\n",
       "Colemanland             30.894545\n",
       "Davidfurt               31.995882\n",
       "Deanville               25.842632\n",
       "East Aaronbury          25.661111\n",
       "East Danielview         31.560588\n",
       "East Kaylahaven         23.757931\n",
       "East Kentstad           29.823077\n",
       "East Marymouth          30.835185\n",
       "Erikaland               24.906667\n",
       "Garzaport               24.123333\n",
       "Grahamburgh             25.221200\n",
       "Grayville               27.763333\n",
       "Harringtonfort          33.470000\n",
       "Huntermouth             28.993750\n",
       "Hurleymouth             25.891429\n",
       "Jerryton                25.649200\n",
       "Jessicaport             36.013333\n",
       "Johnton                 26.785714\n",
       "Joneschester            22.289600\n",
       "Josephside              32.858148\n",
       "Justinberg              23.694333\n",
       "Karenberg               26.340000\n",
       "                          ...    \n",
       "South Evanton           26.726129\n",
       "South Jack              22.965263\n",
       "South Jennifer          35.264286\n",
       "South Karenland         26.535526\n",
       "South Latoya            20.093158\n",
       "South Marychester       41.870000\n",
       "South Michelleport      24.451613\n",
       "South Phillip           28.571290\n",
       "South Saramouth         36.160000\n",
       "South Teresa            31.220455\n",
       "Taylorhaven             42.263333\n",
       "Valentineton            24.636364\n",
       "Veronicaberg            32.828235\n",
       "Victoriaport            27.780000\n",
       "West Angela             25.990000\n",
       "West Anthony            24.736667\n",
       "West Christopherberg    24.421154\n",
       "West Ericstad           22.347222\n",
       "West Gabriel            20.346087\n",
       "West Hannah             29.547619\n",
       "West Heather            33.890000\n",
       "West Heidi              23.133929\n",
       "West Josephberg         21.720385\n",
       "West Kimmouth           29.871500\n",
       "West Patrickchester     28.233125\n",
       "West Robert             25.123871\n",
       "West Samuelburgh        21.767600\n",
       "Williamsonville         31.875000\n",
       "Williamsstad            24.362174\n",
       "Williamsview            26.599000\n",
       "Name: fare, Length: 120, dtype: float64"
      ]
     },
     "execution_count": 201,
     "metadata": {},
     "output_type": "execute_result"
    }
   ],
   "source": [
    "# average fare per city\n",
    "\n",
    "avg_fare_city = comb_data_df.groupby('city')['fare'].mean()\n",
    "\n",
    "avg_fare_city"
   ]
  },
  {
   "cell_type": "code",
   "execution_count": 202,
   "metadata": {},
   "outputs": [
    {
     "data": {
      "text/plain": [
       "city\n",
       "Amandaburgh             18\n",
       "Barajasview             22\n",
       "Barronchester           16\n",
       "Bethanyland             18\n",
       "Bradshawfurt            10\n",
       "Brandonfort             19\n",
       "Carriemouth             27\n",
       "Christopherfurt         27\n",
       "Colemanland             22\n",
       "Davidfurt               17\n",
       "Deanville               19\n",
       "East Aaronbury           9\n",
       "East Danielview         17\n",
       "East Kaylahaven         29\n",
       "East Kentstad           13\n",
       "East Marymouth          27\n",
       "Erikaland               12\n",
       "Garzaport                3\n",
       "Grahamburgh             25\n",
       "Grayville               15\n",
       "Harringtonfort           6\n",
       "Huntermouth             24\n",
       "Hurleymouth             28\n",
       "Jerryton                25\n",
       "Jessicaport              6\n",
       "Johnton                 21\n",
       "Joneschester            25\n",
       "Josephside              27\n",
       "Justinberg              30\n",
       "Karenberg               17\n",
       "                        ..\n",
       "South Evanton           31\n",
       "South Jack              19\n",
       "South Jennifer           7\n",
       "South Karenland         38\n",
       "South Latoya            19\n",
       "South Marychester        8\n",
       "South Michelleport      31\n",
       "South Phillip           31\n",
       "South Saramouth          4\n",
       "South Teresa            22\n",
       "Taylorhaven              6\n",
       "Valentineton            22\n",
       "Veronicaberg            17\n",
       "Victoriaport            14\n",
       "West Angela             39\n",
       "West Anthony            30\n",
       "West Christopherberg    26\n",
       "West Ericstad           18\n",
       "West Gabriel            23\n",
       "West Hannah             21\n",
       "West Heather             9\n",
       "West Heidi              28\n",
       "West Josephberg         26\n",
       "West Kimmouth           20\n",
       "West Patrickchester     16\n",
       "West Robert             31\n",
       "West Samuelburgh        25\n",
       "Williamsonville         14\n",
       "Williamsstad            23\n",
       "Williamsview            20\n",
       "Name: ride_id, Length: 120, dtype: int64"
      ]
     },
     "execution_count": 202,
     "metadata": {},
     "output_type": "execute_result"
    }
   ],
   "source": [
    "# total rides per city\n",
    "\n",
    "total_rides_city = comb_data_df.groupby('city')['ride_id'].count()\n",
    "\n",
    "total_rides_city"
   ]
  },
  {
   "cell_type": "code",
   "execution_count": 203,
   "metadata": {},
   "outputs": [
    {
     "data": {
      "text/plain": [
       "city\n",
       "Amandaburgh             12\n",
       "Barajasview             26\n",
       "Barronchester           11\n",
       "Bethanyland             22\n",
       "Bradshawfurt             7\n",
       "Brandonfort             10\n",
       "Carriemouth             52\n",
       "Christopherfurt         41\n",
       "Colemanland             23\n",
       "Davidfurt               23\n",
       "Deanville               49\n",
       "East Aaronbury           7\n",
       "East Danielview         22\n",
       "East Kaylahaven         65\n",
       "East Kentstad           20\n",
       "East Marymouth           5\n",
       "Erikaland               37\n",
       "Garzaport                7\n",
       "Grahamburgh             61\n",
       "Grayville                2\n",
       "Harringtonfort           4\n",
       "Huntermouth             37\n",
       "Hurleymouth             36\n",
       "Jerryton                64\n",
       "Jessicaport              1\n",
       "Johnton                 27\n",
       "Joneschester            39\n",
       "Josephside              25\n",
       "Justinberg              39\n",
       "Karenberg               22\n",
       "                        ..\n",
       "South Evanton           11\n",
       "South Jack              46\n",
       "South Jennifer           7\n",
       "South Karenland          4\n",
       "South Latoya            10\n",
       "South Marychester        1\n",
       "South Michelleport      72\n",
       "South Phillip           38\n",
       "South Saramouth          7\n",
       "South Teresa            21\n",
       "Taylorhaven              1\n",
       "Valentineton            45\n",
       "Veronicaberg            20\n",
       "Victoriaport            16\n",
       "West Angela             48\n",
       "West Anthony            70\n",
       "West Christopherberg    32\n",
       "West Ericstad           25\n",
       "West Gabriel            57\n",
       "West Hannah             12\n",
       "West Heather             4\n",
       "West Heidi              28\n",
       "West Josephberg         45\n",
       "West Kimmouth            4\n",
       "West Patrickchester     25\n",
       "West Robert             39\n",
       "West Samuelburgh        73\n",
       "Williamsonville          2\n",
       "Williamsstad            59\n",
       "Williamsview            46\n",
       "Name: driver_count, Length: 120, dtype: int64"
      ]
     },
     "execution_count": 203,
     "metadata": {},
     "output_type": "execute_result"
    }
   ],
   "source": [
    "# total drivers per city\n",
    "\n",
    "total_drivers_city = comb_data_df.groupby('city')['driver_count'].mean()\n",
    "\n",
    "total_drivers_city"
   ]
  },
  {
   "cell_type": "code",
   "execution_count": 204,
   "metadata": {},
   "outputs": [
    {
     "data": {
      "text/plain": [
       "Urban       66\n",
       "Suburban    36\n",
       "Rural       18\n",
       "Name: type, dtype: int64"
      ]
     },
     "execution_count": 204,
     "metadata": {},
     "output_type": "execute_result"
    }
   ],
   "source": [
    "# city type\n",
    "\n",
    "city_type = city_data_df.set_index('city')['type']\n",
    "\n",
    "city_type.value_counts()"
   ]
  },
  {
   "cell_type": "code",
   "execution_count": 205,
   "metadata": {},
   "outputs": [
    {
     "data": {
      "text/html": [
       "<div>\n",
       "<style scoped>\n",
       "    .dataframe tbody tr th:only-of-type {\n",
       "        vertical-align: middle;\n",
       "    }\n",
       "\n",
       "    .dataframe tbody tr th {\n",
       "        vertical-align: top;\n",
       "    }\n",
       "\n",
       "    .dataframe thead th {\n",
       "        text-align: right;\n",
       "    }\n",
       "</style>\n",
       "<table border=\"1\" class=\"dataframe\">\n",
       "  <thead>\n",
       "    <tr style=\"text-align: right;\">\n",
       "      <th></th>\n",
       "      <th>average fare per city</th>\n",
       "      <th>total rides per city</th>\n",
       "      <th>total drivers per city</th>\n",
       "      <th>city type</th>\n",
       "    </tr>\n",
       "  </thead>\n",
       "  <tbody>\n",
       "    <tr>\n",
       "      <th>Amandaburgh</th>\n",
       "      <td>24.641667</td>\n",
       "      <td>18</td>\n",
       "      <td>12</td>\n",
       "      <td>Urban</td>\n",
       "    </tr>\n",
       "    <tr>\n",
       "      <th>Barajasview</th>\n",
       "      <td>25.332273</td>\n",
       "      <td>22</td>\n",
       "      <td>26</td>\n",
       "      <td>Urban</td>\n",
       "    </tr>\n",
       "    <tr>\n",
       "      <th>Barronchester</th>\n",
       "      <td>36.422500</td>\n",
       "      <td>16</td>\n",
       "      <td>11</td>\n",
       "      <td>Suburban</td>\n",
       "    </tr>\n",
       "    <tr>\n",
       "      <th>Bethanyland</th>\n",
       "      <td>32.956111</td>\n",
       "      <td>18</td>\n",
       "      <td>22</td>\n",
       "      <td>Suburban</td>\n",
       "    </tr>\n",
       "    <tr>\n",
       "      <th>Bradshawfurt</th>\n",
       "      <td>40.064000</td>\n",
       "      <td>10</td>\n",
       "      <td>7</td>\n",
       "      <td>Rural</td>\n",
       "    </tr>\n",
       "  </tbody>\n",
       "</table>\n",
       "</div>"
      ],
      "text/plain": [
       "               average fare per city  total rides per city  \\\n",
       "Amandaburgh                24.641667                    18   \n",
       "Barajasview                25.332273                    22   \n",
       "Barronchester              36.422500                    16   \n",
       "Bethanyland                32.956111                    18   \n",
       "Bradshawfurt               40.064000                    10   \n",
       "\n",
       "               total drivers per city city type  \n",
       "Amandaburgh                        12     Urban  \n",
       "Barajasview                        26     Urban  \n",
       "Barronchester                      11  Suburban  \n",
       "Bethanyland                        22  Suburban  \n",
       "Bradshawfurt                        7     Rural  "
      ]
     },
     "execution_count": 205,
     "metadata": {},
     "output_type": "execute_result"
    }
   ],
   "source": [
    "cities_data_df = pd.DataFrame({\"average fare per city\": avg_fare_city,\n",
    "                           \"total rides per city\": total_rides_city,\n",
    "                           \"total drivers per city\": total_drivers_city,\n",
    "                           \"city type\": city_type})\n",
    "\n",
    "cities_data_df.head()"
   ]
  },
  {
   "cell_type": "code",
   "execution_count": 206,
   "metadata": {},
   "outputs": [],
   "source": [
    "urb = cities_data_df.loc[cities_data_df['city type']=='Urban']\n",
    "sub = cities_data_df.loc[cities_data_df['city type']=='Suburban']\n",
    "rur = cities_data_df.loc[cities_data_df['city type']=='Rural']"
   ]
  },
  {
   "cell_type": "code",
   "execution_count": 207,
   "metadata": {},
   "outputs": [
    {
     "data": {
      "image/png": "[encoded data removed]",
      "text/plain": [
       "<Figure size 432x288 with 1 Axes>"
      ]
     },
     "metadata": {
      "needs_background": "light"
     },
     "output_type": "display_data"
    }
   ],
   "source": [
    "plt.scatter(urb['total rides per city'], urb['average fare per city'], color='Coral', \n",
    "            s=urb['total drivers per city']*10, edgecolors='black', label='Urban', alpha=0.75, linewidth=1.25)\n",
    "\n",
    "plt.scatter(sub['total rides per city'], sub['average fare per city'], color='Skyblue', \n",
    "            s=sub['total drivers per city']*10, edgecolors='black', label='Suburban', alpha=0.75, linewidth=1.25)\n",
    "\n",
    "plt.scatter(rur['total rides per city'], rur['average fare per city'], color='Gold', \n",
    "            s=rur['total drivers per city']*10, edgecolors='black', label='Rural', alpha=0.75, linewidth=1.25)\n",
    "\n",
    "\n",
    "plt.title(\"Pyber Ride Sharing Data 2018\")\n",
    "\n",
    "plt.xlabel(\"Total Number of Rides Per City\")\n",
    "\n",
    "plt.ylabel(\"Average Fare Per City ($)\")\n",
    "\n",
    "plt.text(42,35,\"\"\"Note: \n",
    "Circle size correlates with driver count per city\"\"\")\n",
    "\n",
    "plt.legend()\n",
    "\n",
    "plt.grid()\n"
   ]
  },
  {
   "cell_type": "code",
   "execution_count": 208,
   "metadata": {},
   "outputs": [
    {
     "name": "stdout",
     "output_type": "stream",
     "text": [
      "type\n",
      "Rural       0.068115\n",
      "Suburban    0.304639\n",
      "Urban       0.627246\n",
      "Name: fare, dtype: float64\n"
     ]
    },
    {
     "data": {
      "text/plain": [
       "Text(0.5, 1.0, '% of Total Fares by City Type')"
      ]
     },
     "execution_count": 208,
     "metadata": {},
     "output_type": "execute_result"
    },
    {
     "data": {
      "image/png": "[encoded data removed]",
      "text/plain": [
       "<Figure size 432x288 with 1 Axes>"
      ]
     },
     "metadata": {},
     "output_type": "display_data"
    }
   ],
   "source": [
    "# percent of total fares by city type\n",
    "fares_city_type = comb_data_df.groupby('type')['fare'].sum()\n",
    "total_fares = fares_city_type.sum()\n",
    "\n",
    "total_fares_by_city = fares_city_type/total_fares\n",
    "\n",
    "print(total_fares_by_city)\n",
    "\n",
    "labels = [\"Rural\", \"Suburban\", \"Urban\"]\n",
    "\n",
    "colors = [\"Gold\", 'Skyblue', 'Coral']\n",
    "\n",
    "explode = [0, 0, 0.1]\n",
    "\n",
    "\n",
    "plt.pie(total_fares_by_city, explode=explode, labels=labels, colors=colors,\n",
    "       autopct=\"%1.1f%%\", shadow=True, startangle=140)\n",
    "\n",
    "plt.title(\"% of Total Fares by City Type\")"
   ]
  },
  {
   "cell_type": "code",
   "execution_count": 209,
   "metadata": {},
   "outputs": [
    {
     "name": "stdout",
     "output_type": "stream",
     "text": [
      "type\n",
      "Rural       0.052632\n",
      "Suburban    0.263158\n",
      "Urban       0.684211\n",
      "Name: ride_id, dtype: float64\n"
     ]
    },
    {
     "data": {
      "text/plain": [
       "Text(0.5, 1.0, '% of Total Rides by City Type')"
      ]
     },
     "execution_count": 209,
     "metadata": {},
     "output_type": "execute_result"
    },
    {
     "data": {
      "image/png": "[encoded data removed]",
      "text/plain": [
       "<Figure size 432x288 with 1 Axes>"
      ]
     },
     "metadata": {},
     "output_type": "display_data"
    }
   ],
   "source": [
    "# percent of total rides by city type\n",
    "rides_city_type = comb_data_df.groupby('type')['ride_id'].count()\n",
    "total_rides = rides_city_type.sum()\n",
    "\n",
    "total_rides_by_city = rides_city_type/total_rides\n",
    "\n",
    "print(total_rides_by_city)\n",
    "\n",
    "labels = [\"Rural\", \"Suburban\", \"Urban\"]\n",
    "\n",
    "colors = [\"Gold\", 'Skyblue', 'Coral']\n",
    "\n",
    "explode = [0, 0, 0.1]\n",
    "\n",
    "\n",
    "plt.pie(total_rides_by_city, explode=explode, labels=labels, colors=colors,\n",
    "       autopct=\"%1.1f%%\", shadow=True, startangle=140)\n",
    "\n",
    "plt.title(\"% of Total Rides by City Type\")\n"
   ]
  },
  {
   "cell_type": "code",
   "execution_count": 210,
   "metadata": {},
   "outputs": [
    {
     "name": "stdout",
     "output_type": "stream",
     "text": [
      "type\n",
      "Rural       0.026236\n",
      "Suburban    0.164817\n",
      "Urban       0.808947\n",
      "Name: driver_count, dtype: float64\n"
     ]
    },
    {
     "data": {
      "text/plain": [
       "Text(0.5, 1.0, '% of Total Drivers by City Type')"
      ]
     },
     "execution_count": 210,
     "metadata": {},
     "output_type": "execute_result"
    },
    {
     "data": {
      "image/png": "[encoded data removed]",
      "text/plain": [
       "<Figure size 432x288 with 1 Axes>"
      ]
     },
     "metadata": {},
     "output_type": "display_data"
    }
   ],
   "source": [
    "drivers_city_type = city_data_df.groupby('type')['driver_count'].sum()\n",
    "total_drivers_count = city_data_df['driver_count'].sum()\n",
    "\n",
    "total_drivers_by_city = drivers_city_type/total_drivers_count\n",
    "\n",
    "print(total_drivers_by_city)\n",
    "\n",
    "labels = [\"Rural\", \"Suburban\", \"Urban\"]\n",
    "\n",
    "colors = [\"Gold\", 'Skyblue', 'Coral']\n",
    "\n",
    "explode = [0, 0, 0.1]\n",
    "\n",
    "\n",
    "plt.pie(total_drivers_by_city, explode=explode, labels=labels, colors=colors,\n",
    "        autopct=\"%1.1f%%\", shadow=True, startangle=140)\n",
    "\n",
    "plt.title(\"% of Total Drivers by City Type\")"
   ]
  },
  {
   "cell_type": "code",
   "execution_count": null,
   "metadata": {},
   "outputs": [],
   "source": [
    "*OBSERVATIONAL TRENDS*\n",
    "\n",
    "1. Even though the majority of rural rides have the lowest total number of rides, they have the some of the \n",
    "highest average fares per city. This would suggest that rides in rural areas have to travel further distances\n",
    "as opposed to urban areas\n",
    "\n",
    "2. Driver competition plays a factor in ride fares. Urban cities have the highest number of drivers and the \n",
    "highest number of rides but have the lowest average fares.\n",
    "\n",
    "3. Suburban drivers collect relativly higher average fares compared to urban and rural drivers."
   ]
  }
 ],
 "metadata": {
  "kernelspec": {
   "display_name": "Python 3",
   "language": "python",
   "name": "python3"
  },
  "language_info": {
   "codemirror_mode": {
    "name": "ipython",
    "version": 3
   },
   "file_extension": ".py",
   "mimetype": "text/x-python",
   "name": "python",
   "nbconvert_exporter": "python",
   "pygments_lexer": "ipython3",
   "version": "3.7.3"
  }
 },
 "nbformat": 4,
 "nbformat_minor": 2
}
